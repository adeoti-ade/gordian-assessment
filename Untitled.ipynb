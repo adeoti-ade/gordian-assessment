{
 "cells": [
  {
   "cell_type": "code",
   "execution_count": 9,
   "metadata": {},
   "outputs": [],
   "source": [
    "from bs4 import BeautifulSoup\n",
    "import xml.etree.ElementTree as ET"
   ]
  },
  {
   "cell_type": "code",
   "execution_count": 184,
   "metadata": {},
   "outputs": [],
   "source": [
    "with open('seatmap2.xml', 'r') as f:\n",
    "    data = f.read()"
   ]
  },
  {
   "cell_type": "code",
   "execution_count": 193,
   "metadata": {},
   "outputs": [],
   "source": [
    "soup = BeautifulSoup(data, \"xml\")"
   ]
  },
  {
   "cell_type": "code",
   "execution_count": 194,
   "metadata": {},
   "outputs": [],
   "source": [
    "seatmaps = soup.find_all(\"SeatMap\")"
   ]
  },
  {
   "cell_type": "code",
   "execution_count": 197,
   "metadata": {},
   "outputs": [],
   "source": [
    "# # seatmap\n",
    "seatmap_dict = {}\n",
    "list_of_seatmaps = []\n",
    "for seatmap in seatmaps:\n",
    "    seatmap_dict[\"SegmentRef\"] = seatmap.find(\"SegmentRef\").text\n",
    "    rows = seatmap.find_all(\"Row\")\n",
    "    items = []\n",
    "    for row in rows:\n",
    "        dict_object = {\n",
    "        \"Seat\": {}\n",
    "        }\n",
    "        dict_object[\"Number\"] = row.find(\"Number\").text\n",
    "        seats = row.find_all(\"Seat\")\n",
    "        for seat in seats:\n",
    "            dict_object[\"Seat\"][\"Column\"] = seat.find(\"Column\").text\n",
    "            dict_object[\"Seat\"][\"OfferItemRefs\"] = seat.find(\"OfferItemRefs\").text if seat.find(\"OfferItemRefs\") else None\n",
    "            dict_object[\"Seat\"][\"SeatDefinitionRef\"] = [obj.text for obj in seat.find_all(\"SeatDefinitionRef\")]\n",
    "        items.append(dict_object)\n",
    "    seatmap_dict[\"Row\"] = items\n",
    "    list_of_seatmaps.append(seatmap_dict)"
   ]
  },
  {
   "cell_type": "code",
   "execution_count": 199,
   "metadata": {},
   "outputs": [],
   "source": [
    "# list_of_seatmaps"
   ]
  },
  {
   "cell_type": "code",
   "execution_count": null,
   "metadata": {},
   "outputs": [],
   "source": []
  },
  {
   "cell_type": "code",
   "execution_count": 102,
   "metadata": {},
   "outputs": [],
   "source": [
    "# items = []\n",
    "# for row in rows:\n",
    "#     dict_object = {\n",
    "#     \"Seat\": {}\n",
    "#     }\n",
    "#     dict_object[\"Number\"] = row.find(\"Number\").text\n",
    "#     seats = row.find_all(\"Seat\")\n",
    "#     for seat in seats:\n",
    "#         dict_object[\"Seat\"][\"Column\"] = seat.find(\"Column\").text\n",
    "#         dict_object[\"Seat\"][\"OfferItemRefs\"] = seat.find(\"OfferItemRefs\").text if seat.find(\"OfferItemRefs\") else None\n",
    "#         dict_object[\"Seat\"][\"SeatDefinitionRef\"] = [obj.text for obj in seat.find_all(\"SeatDefinitionRef\")]\n",
    "#     items.append(dict_object)"
   ]
  },
  {
   "cell_type": "code",
   "execution_count": 171,
   "metadata": {},
   "outputs": [],
   "source": [
    "# items"
   ]
  },
  {
   "cell_type": "code",
   "execution_count": 105,
   "metadata": {},
   "outputs": [],
   "source": [
    "# row"
   ]
  },
  {
   "cell_type": "code",
   "execution_count": 172,
   "metadata": {},
   "outputs": [],
   "source": [
    "with open('seatmap1.xml', 'r') as f:\n",
    "    data = f.read()"
   ]
  },
  {
   "cell_type": "code",
   "execution_count": 173,
   "metadata": {},
   "outputs": [],
   "source": [
    "soup = BeautifulSoup(data, \"xml\")"
   ]
  },
  {
   "cell_type": "code",
   "execution_count": 174,
   "metadata": {},
   "outputs": [],
   "source": [
    "seat_info = soup.find_all(\"ns:SeatInfo\")\n",
    "row_info = soup.find_all(\"ns:RowInfo\")"
   ]
  },
  {
   "cell_type": "code",
   "execution_count": 176,
   "metadata": {},
   "outputs": [],
   "source": [
    "cabin_classes = soup.find_all(\"CabinClass\")"
   ]
  },
  {
   "cell_type": "code",
   "execution_count": 179,
   "metadata": {},
   "outputs": [],
   "source": [
    "cabin_list = []\n",
    "for cabin_class in cabin_classes:\n",
    "    cabin_obj = {}\n",
    "    cabin_obj[\"Layout\"] = cabin_class.get(\"Layout\")\n",
    "    cabin_obj[\"UpperDeckInd\"] = cabin_class.get(\"UpperDeckInd\")\n",
    "    row_info = cabin_class.find_all(\"ns:RowInfo\")\n",
    "    list_of_objs = []\n",
    "    parent_obj = {}\n",
    "    for row in row_info:\n",
    "        parent_obj[\"CabinType\"] = row.get(\"CabinType\")\n",
    "        seat_info = row.find_all(\"ns:SeatInfo\")\n",
    "        list_of_seats = []\n",
    "        for seat in seat_info:\n",
    "            json_object = {}\n",
    "            json_object[\"BlockedInd\"] = seat.get(\"BlockedInd\")\n",
    "            json_object[\"BulkheadInd\"] = seat.get(\"BulkheadInd\")\n",
    "            json_object[\"ColumnNumber\"] = seat.get(\"ColumnNumber\")\n",
    "            json_object[\"PlaneSection\"] = seat.get(\"PlaneSection\")\n",
    "            json_object[\"AvailableInd\"] = seat.find(\"ns:Summary\")[\"AvailableInd\"]\n",
    "            json_object[\"SeatNumber\"] = seat.find(\"ns:Summary\")[\"SeatNumber\"]\n",
    "            json_object[\"Amount\"] = seat.find(\"ns:Service\").find(\"ns:Fee\")[\"Amount\"] if seat.find(\"ns:Service\") else None\n",
    "            json_object[\"Currency\"] = seat.find(\"ns:Service\").find(\"ns:Fee\")[\"CurrencyCode\"] if seat.find(\"ns:Service\") else None\n",
    "            list_of_seats.append(json_object)\n",
    "        parent_obj[\"seat\"] = list_of_seats\n",
    "        list_of_objs.append(parent_obj)\n",
    "        cabin_obj[\"Row\"] = list_of_objs\n",
    "    cabin_list.append(cabin_obj)"
   ]
  },
  {
   "cell_type": "code",
   "execution_count": 181,
   "metadata": {},
   "outputs": [],
   "source": [
    "# cabin_list"
   ]
  },
  {
   "cell_type": "code",
   "execution_count": 145,
   "metadata": {},
   "outputs": [],
   "source": [
    "list_of_objs = []\n",
    "parent_obj = {}\n",
    "for row in row_info:\n",
    "    parent_obj[\"CabinType\"] = row.get(\"CabinType\")\n",
    "    seat_info = row.find_all(\"ns:SeatInfo\")\n",
    "    list_of_seats = []\n",
    "    for seat in seat_info:\n",
    "        json_object = {}\n",
    "        json_object[\"BlockedInd\"] = seat.get(\"BlockedInd\")\n",
    "        json_object[\"BulkheadInd\"] = seat.get(\"BulkheadInd\")\n",
    "        json_object[\"ColumnNumber\"] = seat.get(\"ColumnNumber\")\n",
    "        json_object[\"PlaneSection\"] = seat.get(\"PlaneSection\")\n",
    "        json_object[\"AvailableInd\"] = seat.find(\"ns:Summary\")[\"AvailableInd\"]\n",
    "        json_object[\"SeatNumber\"] = seat.find(\"ns:Summary\")[\"SeatNumber\"]\n",
    "        json_object[\"Amount\"] = seat.find(\"ns:Service\").find(\"ns:Fee\")[\"Amount\"] if seat.find(\"ns:Service\") else None\n",
    "        json_object[\"Currency\"] = seat.find(\"ns:Service\").find(\"ns:Fee\")[\"CurrencyCode\"] if seat.find(\"ns:Service\") else None\n",
    "        list_of_seats.append(json_object)\n",
    "    parent_obj[\"seat\"] = list_of_seats\n",
    "    list_of_objs.append(parent_obj)"
   ]
  },
  {
   "cell_type": "code",
   "execution_count": null,
   "metadata": {},
   "outputs": [],
   "source": []
  }
 ],
 "metadata": {
  "kernelspec": {
   "display_name": "Python 3",
   "language": "python",
   "name": "python3"
  },
  "language_info": {
   "codemirror_mode": {
    "name": "ipython",
    "version": 3
   },
   "file_extension": ".py",
   "mimetype": "text/x-python",
   "name": "python",
   "nbconvert_exporter": "python",
   "pygments_lexer": "ipython3",
   "version": "3.8.5"
  }
 },
 "nbformat": 4,
 "nbformat_minor": 4
}
